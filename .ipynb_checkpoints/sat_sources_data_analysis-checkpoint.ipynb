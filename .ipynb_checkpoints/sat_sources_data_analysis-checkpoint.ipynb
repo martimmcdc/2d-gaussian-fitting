{
 "cells": [
  {
   "cell_type": "code",
   "execution_count": 1,
   "id": "666876f9",
   "metadata": {},
   "outputs": [],
   "source": [
    "# import modules\n",
    "import os\n",
    "import numpy as np\n",
    "import matplotlib.pyplot as plt\n",
    "from astropy.io import fits\n",
    "from hub_simulation import fit"
   ]
  },
  {
   "cell_type": "code",
   "execution_count": null,
   "id": "577cd844",
   "metadata": {},
   "outputs": [],
   "source": [
    "def open_fits(file):\n",
    "    hdu = fits.open(file)[0]\n",
    "    header = hdu.header\n",
    "    data = hdu.data\n",
    "    data[data==0] = np.nan\n",
    "    sat_area = np.zeros(data.shape,bool)\n",
    "    sat_area[np.isnan(data)] = True\n",
    "\n",
    "    # axis values from header\n",
    "    x0,y0 = header['crpix1'],header['crpix2']\n",
    "    dx,dy = header['cdelt1'],header['cdelt2']\n",
    "    nx,ny = header['naxis1'],header['naxis2']\n",
    "    x = np.arange(0,nx)#x0 + dx/abs(dx)*np.arange(0,nx)\n",
    "    y = np.arange(0,ny)#y0 + dy/abs(dy)*np.arange(0,ny)\n",
    "    grid = np.meshgrid(x,y)\n",
    "    \n",
    "    "
   ]
  }
 ],
 "metadata": {
  "kernelspec": {
   "display_name": "Python 3",
   "language": "python",
   "name": "python3"
  },
  "language_info": {
   "codemirror_mode": {
    "name": "ipython",
    "version": 3
   },
   "file_extension": ".py",
   "mimetype": "text/x-python",
   "name": "python",
   "nbconvert_exporter": "python",
   "pygments_lexer": "ipython3",
   "version": "3.7.10"
  }
 },
 "nbformat": 4,
 "nbformat_minor": 5
}
